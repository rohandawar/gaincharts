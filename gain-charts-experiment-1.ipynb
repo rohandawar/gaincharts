{
 "cells": [
  {
   "cell_type": "markdown",
   "id": "e6796b63",
   "metadata": {
    "papermill": {
     "duration": 0.011991,
     "end_time": "2022-03-10T06:56:11.941220",
     "exception": false,
     "start_time": "2022-03-10T06:56:11.929229",
     "status": "completed"
    },
    "tags": []
   },
   "source": [
    "_In this notebook, I am trying to understand the implementation of gain charts in python_"
   ]
  },
  {
   "cell_type": "code",
   "execution_count": 1,
   "id": "f9a2fdc9",
   "metadata": {
    "_cell_guid": "b1076dfc-b9ad-4769-8c92-a6c4dae69d19",
    "_uuid": "8f2839f25d086af736a60e9eeb907d3b93b6e0e5",
    "execution": {
     "iopub.execute_input": "2022-03-10T06:56:11.972606Z",
     "iopub.status.busy": "2022-03-10T06:56:11.971639Z",
     "iopub.status.idle": "2022-03-10T06:56:11.978105Z",
     "shell.execute_reply": "2022-03-10T06:56:11.978723Z",
     "shell.execute_reply.started": "2022-03-10T06:47:01.173973Z"
    },
    "papermill": {
     "duration": 0.026723,
     "end_time": "2022-03-10T06:56:11.979039",
     "exception": false,
     "start_time": "2022-03-10T06:56:11.952316",
     "status": "completed"
    },
    "tags": []
   },
   "outputs": [],
   "source": [
    "# This Python 3 environment comes with many helpful analytics libraries installed\n",
    "# It is defined by the kaggle/python Docker image: https://github.com/kaggle/docker-python\n",
    "# For example, here's several helpful packages to load\n",
    "\n",
    "import numpy as np # linear algebra\n",
    "import pandas as pd # data processing, CSV file I/O (e.g. pd.read_csv)\n",
    "\n",
    "# Input data files are available in the read-only \"../input/\" directory\n",
    "# For example, running this (by clicking run or pressing Shift+Enter) will list all files under the input directory\n",
    "\n",
    "import os\n",
    "for dirname, _, filenames in os.walk('/kaggle/input'):\n",
    "    for filename in filenames:\n",
    "        print(os.path.join(dirname, filename))\n",
    "\n",
    "# You can write up to 20GB to the current directory (/kaggle/working/) that gets preserved as output when you create a version using \"Save & Run All\" \n",
    "# You can also write temporary files to /kaggle/temp/, but they won't be saved outside of the current session"
   ]
  },
  {
   "cell_type": "code",
   "execution_count": 2,
   "id": "2ce47089",
   "metadata": {
    "execution": {
     "iopub.execute_input": "2022-03-10T06:56:12.005111Z",
     "iopub.status.busy": "2022-03-10T06:56:12.004064Z",
     "iopub.status.idle": "2022-03-10T06:56:13.400965Z",
     "shell.execute_reply": "2022-03-10T06:56:13.400357Z",
     "shell.execute_reply.started": "2022-03-10T06:51:29.680412Z"
    },
    "papermill": {
     "duration": 1.411004,
     "end_time": "2022-03-10T06:56:13.401113",
     "exception": false,
     "start_time": "2022-03-10T06:56:11.990109",
     "status": "completed"
    },
    "tags": []
   },
   "outputs": [],
   "source": [
    "#importing the libs\n",
    "from sklearn.datasets import load_breast_cancer\n",
    "from sklearn.model_selection import train_test_split\n",
    "from sklearn.naive_bayes import GaussianNB\n",
    "\n",
    "#plotting\n",
    "import matplotlib.pyplot as plt\n",
    "import scikitplot as skplot"
   ]
  },
  {
   "cell_type": "code",
   "execution_count": 3,
   "id": "0a79656b",
   "metadata": {
    "execution": {
     "iopub.execute_input": "2022-03-10T06:56:13.426319Z",
     "iopub.status.busy": "2022-03-10T06:56:13.425686Z",
     "iopub.status.idle": "2022-03-10T06:56:13.452959Z",
     "shell.execute_reply": "2022-03-10T06:56:13.453498Z",
     "shell.execute_reply.started": "2022-03-10T06:48:24.844713Z"
    },
    "papermill": {
     "duration": 0.041624,
     "end_time": "2022-03-10T06:56:13.453673",
     "exception": false,
     "start_time": "2022-03-10T06:56:13.412049",
     "status": "completed"
    },
    "tags": []
   },
   "outputs": [
    {
     "data": {
      "text/plain": [
       "((569, 30), (569,))"
      ]
     },
     "execution_count": 3,
     "metadata": {},
     "output_type": "execute_result"
    }
   ],
   "source": [
    "#load the dataset\n",
    "X,y = load_breast_cancer(return_X_y=True)\n",
    "X.shape, y.shape"
   ]
  },
  {
   "cell_type": "code",
   "execution_count": 4,
   "id": "08021797",
   "metadata": {
    "execution": {
     "iopub.execute_input": "2022-03-10T06:56:13.483878Z",
     "iopub.status.busy": "2022-03-10T06:56:13.483174Z",
     "iopub.status.idle": "2022-03-10T06:56:13.486011Z",
     "shell.execute_reply": "2022-03-10T06:56:13.486537Z",
     "shell.execute_reply.started": "2022-03-10T06:49:16.530735Z"
    },
    "papermill": {
     "duration": 0.021262,
     "end_time": "2022-03-10T06:56:13.486716",
     "exception": false,
     "start_time": "2022-03-10T06:56:13.465454",
     "status": "completed"
    },
    "tags": []
   },
   "outputs": [],
   "source": [
    "#train test split\n",
    "X_train, X_test, y_train, y_test = train_test_split(X,y, test_size=0.33, random_state=0)"
   ]
  },
  {
   "cell_type": "code",
   "execution_count": 5,
   "id": "245e978a",
   "metadata": {
    "execution": {
     "iopub.execute_input": "2022-03-10T06:56:13.513281Z",
     "iopub.status.busy": "2022-03-10T06:56:13.512660Z",
     "iopub.status.idle": "2022-03-10T06:56:13.521744Z",
     "shell.execute_reply": "2022-03-10T06:56:13.522326Z",
     "shell.execute_reply.started": "2022-03-10T06:49:56.987564Z"
    },
    "papermill": {
     "duration": 0.024393,
     "end_time": "2022-03-10T06:56:13.522540",
     "exception": false,
     "start_time": "2022-03-10T06:56:13.498147",
     "status": "completed"
    },
    "tags": []
   },
   "outputs": [
    {
     "data": {
      "text/plain": [
       "GaussianNB()"
      ]
     },
     "execution_count": 5,
     "metadata": {},
     "output_type": "execute_result"
    }
   ],
   "source": [
    "#object creation & model fitting\n",
    "nb = GaussianNB()\n",
    "nb.fit(X_train, y_train)"
   ]
  },
  {
   "cell_type": "code",
   "execution_count": 6,
   "id": "c026be25",
   "metadata": {
    "execution": {
     "iopub.execute_input": "2022-03-10T06:56:13.549799Z",
     "iopub.status.busy": "2022-03-10T06:56:13.548954Z",
     "iopub.status.idle": "2022-03-10T06:56:13.553129Z",
     "shell.execute_reply": "2022-03-10T06:56:13.553674Z",
     "shell.execute_reply.started": "2022-03-10T06:50:21.549824Z"
    },
    "papermill": {
     "duration": 0.019401,
     "end_time": "2022-03-10T06:56:13.553851",
     "exception": false,
     "start_time": "2022-03-10T06:56:13.534450",
     "status": "completed"
    },
    "tags": []
   },
   "outputs": [],
   "source": [
    "predicted_probs = nb.predict_proba(X_test)"
   ]
  },
  {
   "cell_type": "code",
   "execution_count": 7,
   "id": "47d5a0d4",
   "metadata": {
    "execution": {
     "iopub.execute_input": "2022-03-10T06:56:13.581583Z",
     "iopub.status.busy": "2022-03-10T06:56:13.580897Z",
     "iopub.status.idle": "2022-03-10T06:56:13.804586Z",
     "shell.execute_reply": "2022-03-10T06:56:13.803820Z",
     "shell.execute_reply.started": "2022-03-10T06:51:57.039301Z"
    },
    "papermill": {
     "duration": 0.238385,
     "end_time": "2022-03-10T06:56:13.804730",
     "exception": false,
     "start_time": "2022-03-10T06:56:13.566345",
     "status": "completed"
    },
    "tags": []
   },
   "outputs": [
    {
     "data": {
      "image/png": "[encoded data removed]",
      "text/plain": [
       "<Figure size 432x288 with 1 Axes>"
      ]
     },
     "metadata": {
      "needs_background": "light"
     },
     "output_type": "display_data"
    }
   ],
   "source": [
    "skplot.metrics.plot_cumulative_gain(y_test,predicted_probs)\n",
    "plt.show()"
   ]
  },
  {
   "cell_type": "code",
   "execution_count": 8,
   "id": "5293f227",
   "metadata": {
    "execution": {
     "iopub.execute_input": "2022-03-10T06:56:13.834651Z",
     "iopub.status.busy": "2022-03-10T06:56:13.833983Z",
     "iopub.status.idle": "2022-03-10T06:56:14.058251Z",
     "shell.execute_reply": "2022-03-10T06:56:14.057685Z",
     "shell.execute_reply.started": "2022-03-10T06:55:06.785696Z"
    },
    "papermill": {
     "duration": 0.240617,
     "end_time": "2022-03-10T06:56:14.058402",
     "exception": false,
     "start_time": "2022-03-10T06:56:13.817785",
     "status": "completed"
    },
    "tags": []
   },
   "outputs": [
    {
     "data": {
      "image/png": "[encoded data removed]",
      "text/plain": [
       "<Figure size 432x288 with 1 Axes>"
      ]
     },
     "metadata": {
      "needs_background": "light"
     },
     "output_type": "display_data"
    }
   ],
   "source": [
    "skplot.metrics.plot_lift_curve(y_test, predicted_probs)\n",
    "plt.show()"
   ]
  },
  {
   "cell_type": "code",
   "execution_count": null,
   "id": "f7904e2a",
   "metadata": {
    "papermill": {
     "duration": 0.014772,
     "end_time": "2022-03-10T06:56:14.087507",
     "exception": false,
     "start_time": "2022-03-10T06:56:14.072735",
     "status": "completed"
    },
    "tags": []
   },
   "outputs": [],
   "source": []
  }
 ],
 "metadata": {
  "kernelspec": {
   "display_name": "Python 3",
   "language": "python",
   "name": "python3"
  },
  "language_info": {
   "codemirror_mode": {
    "name": "ipython",
    "version": 3
   },
   "file_extension": ".py",
   "mimetype": "text/x-python",
   "name": "python",
   "nbconvert_exporter": "python",
   "pygments_lexer": "ipython3",
   "version": "3.7.12"
  },
  "papermill": {
   "default_parameters": {},
   "duration": 13.294964,
   "end_time": "2022-03-10T06:56:14.813503",
   "environment_variables": {},
   "exception": null,
   "input_path": "__notebook__.ipynb",
   "output_path": "__notebook__.ipynb",
   "parameters": {},
   "start_time": "2022-03-10T06:56:01.518539",
   "version": "2.3.3"
  }
 },
 "nbformat": 4,
 "nbformat_minor": 5
}
